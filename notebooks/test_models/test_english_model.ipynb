{
 "cells": [
  {
   "cell_type": "code",
   "execution_count": 1,
   "metadata": {},
   "outputs": [],
   "source": [
    "import os\n",
    "import librosa\n",
    "import librosa.display\n",
    "import numpy as np\n",
    "import tensorflow as tf\n",
    "from tensorflow.keras import layers, models\n",
    "from tensorflow.keras.optimizers import Adam\n",
    "import matplotlib.pyplot as plt\n"
   ]
  },
  {
   "cell_type": "code",
   "execution_count": 4,
   "metadata": {},
   "outputs": [],
   "source": [
    "from tensorflow.keras.layers import Layer\n",
    "\n",
    "class ResizeLayer(Layer):\n",
    "    def __init__(self, target_height, target_width, **kwargs):\n",
    "        super(ResizeLayer, self).__init__(**kwargs)\n",
    "        self.target_height = target_height\n",
    "        self.target_width = target_width\n",
    "\n",
    "    def call(self, inputs):\n",
    "        return tf.image.resize(inputs, [self.target_height, self.target_width])\n",
    "\n",
    "    def get_config(self):\n",
    "        config = super(ResizeLayer, self).get_config()\n",
    "        config.update({\n",
    "            \"target_height\": self.target_height,\n",
    "            \"target_width\": self.target_width,\n",
    "        })\n",
    "        return config\n"
   ]
  },
  {
   "cell_type": "code",
   "execution_count": 6,
   "metadata": {},
   "outputs": [
    {
     "name": "stdout",
     "output_type": "stream",
     "text": [
      "WARNING:tensorflow:From d:\\KPI\\Machine_learning\\ML-DAN\\.venv\\Lib\\site-packages\\keras\\src\\backend\\tensorflow\\core.py:204: The name tf.placeholder is deprecated. Please use tf.compat.v1.placeholder instead.\n",
      "\n"
     ]
    },
    {
     "name": "stderr",
     "output_type": "stream",
     "text": [
      "WARNING:absl:Compiled the loaded model, but the compiled metrics have yet to be built. `model.compile_metrics` will be empty until you train or evaluate the model.\n"
     ]
    }
   ],
   "source": [
    "from tensorflow.keras.models import load_model\n",
    "\n",
    "# Завантажити модель з використанням custom_objects\n",
    "model = load_model('audio_denoising_unet.h5', custom_objects={'ResizeLayer': ResizeLayer})\n"
   ]
  },
  {
   "cell_type": "code",
   "execution_count": 7,
   "metadata": {},
   "outputs": [],
   "source": [
    "# Paths to data\n",
    "# train_blended_paths = '../data/audios/english/train/blended'\n",
    "# train_clean_paths = '../data/audios/english/train/clean'\n",
    "train_blended_paths = '../data/audios/english/train/blended_trim'\n",
    "train_clean_paths = '../data/audios/english/train/clean_trim'\n",
    "\n",
    "\n",
    "# val_blended = '../data/audios/english/validation/blended'\n",
    "# val_clean = '../data/audios/english/validation/clean'\n",
    "val_blended = '../data/audios/english/validation/blended_trim'\n",
    "val_clean = '../data/audios/english/validation/clean_trim'\n",
    "\n",
    "\n",
    "test_blended = '../data/audios/english/test/blended'\n",
    "test_clean = '../data/audios/english/test/clean'"
   ]
  },
  {
   "cell_type": "code",
   "execution_count": 8,
   "metadata": {},
   "outputs": [],
   "source": [
    "# Function to load audio and create spectrogram\n",
    "def load_and_preprocess_audio(filepath, sr=16000, fixed_length=300):\n",
    "    y, _ = librosa.load(filepath, sr=sr)\n",
    "    spectrogram = librosa.stft(y, n_fft=1024, hop_length=512)\n",
    "    spectrogram_db = librosa.amplitude_to_db(np.abs(spectrogram))\n",
    "    \n",
    "    # Adjust the spectrogram length to exactly 300 frames\n",
    "    if spectrogram_db.shape[1] < fixed_length:\n",
    "        # Pad with zeros if it's shorter than the fixed length\n",
    "        padding = fixed_length - spectrogram_db.shape[1]\n",
    "        spectrogram_db = np.pad(spectrogram_db, ((0, 0), (0, padding)), mode='constant')\n",
    "    else:\n",
    "        # Truncate if it's longer than the fixed length\n",
    "        spectrogram_db = spectrogram_db[:, :fixed_length]\n",
    "        \n",
    "    return spectrogram_db\n",
    "\n",
    "\n",
    "# Loading data pairs (blended and clean)\n",
    "def load_data_pairs(blended_path, clean_path):\n",
    "    blended_files = sorted([os.path.join(blended_path, f) for f in os.listdir(blended_path) if f.endswith('.mp3')])\n",
    "    clean_files = sorted([os.path.join(clean_path, f) for f in os.listdir(clean_path) if f.endswith('.flac')])\n",
    "    \n",
    "    blended_spectrograms = [load_and_preprocess_audio(f) for f in blended_files]\n",
    "    clean_spectrograms = [load_and_preprocess_audio(f) for f in clean_files]\n",
    "    \n",
    "    return blended_spectrograms, clean_spectrograms\n"
   ]
  },
  {
   "cell_type": "code",
   "execution_count": 18,
   "metadata": {},
   "outputs": [
    {
     "name": "stdout",
     "output_type": "stream",
     "text": [
      "\u001b[1m1/1\u001b[0m \u001b[32m━━━━━━━━━━━━━━━━━━━━\u001b[0m\u001b[37m\u001b[0m \u001b[1m4s\u001b[0m 4s/step\n"
     ]
    }
   ],
   "source": [
    "# Example inference function\n",
    "def denoise_audio(model, blended_audio):\n",
    "    spectrogram = load_and_preprocess_audio(blended_audio)\n",
    "    input_spec = np.expand_dims(spectrogram, axis=[0, -1])\n",
    "    denoised_spec = model.predict(input_spec)\n",
    "    denoised_audio = librosa.istft(denoised_spec[0, ..., 0])\n",
    "    return denoised_audio\n",
    "\n",
    "# Usage example (replace with an actual audio file path):\n",
    "denoised_audio = denoise_audio(model, '../data/audios/english/train/blended_trim/19-198-0002.mp3')"
   ]
  },
  {
   "cell_type": "code",
   "execution_count": 19,
   "metadata": {},
   "outputs": [],
   "source": [
    "import soundfile as sf\n",
    "sf.write('denoised_sample.wav', denoised_audio, 16000)  # 16000 - це частота дискретизації\n"
   ]
  }
 ],
 "metadata": {
  "kernelspec": {
   "display_name": ".venv",
   "language": "python",
   "name": "python3"
  },
  "language_info": {
   "codemirror_mode": {
    "name": "ipython",
    "version": 3
   },
   "file_extension": ".py",
   "mimetype": "text/x-python",
   "name": "python",
   "nbconvert_exporter": "python",
   "pygments_lexer": "ipython3",
   "version": "3.11.3"
  }
 },
 "nbformat": 4,
 "nbformat_minor": 2
}
